{
 "cells": [
  {
   "cell_type": "markdown",
   "id": "caaf7cd2-e5c6-4e0e-913a-3e44ee5e91d9",
   "metadata": {},
   "source": [
    "### Juan Jorge Camarena Rivas ###"
   ]
  },
  {
   "cell_type": "markdown",
   "id": "3db36521-9ee8-4202-935e-c41539296754",
   "metadata": {},
   "source": [
    "1.- Menciona tres ejemplos de variables aleatorias discretas: un dado, un volado con una moneda, número de quejas\r\n",
    "\r\n",
    "2.- Menciona tres ejemplos de variables aleatorias continua cuántas veces llovió en un año, cuántos choques hay en lópez mateos, cuántas llantas se le poncharon a una persona en un años1097)\r\n",
    "\r\n",
    "5.- Tres amigos diferentes te dijeron que está lloviendo, y cada persona tiene 1/3 de probabilidad de mentir. Si el pronóstico del clima dijo que la probabilidad de lluvia era 25%, ¿cuál es la probabilidad de que sí esté lloviendo? (8/11)\r\n",
    "\r\n",
    "6.- Resuelve y añade a esta actividad los ejercicios que están en el notebook \"Distribuciones de probabilidad.ipynb\"\r\n",
    "\r\n"
   ]
  },
  {
   "cell_type": "markdown",
   "id": "ea8d1afd-e551-4d66-b44c-a1e07f737644",
   "metadata": {},
   "source": [
    "3.- Dos equipos juegan una serie de juegos (4 de 7, el que gane 4 juegos gana). Cada equipo tiene un 50% de probabilidad de ganar cada juego (no empates). ¿Cuál es la probabilidad de que la serie se vaya a 7 juegos? (5/16)"
   ]
  },
  {
   "cell_type": "code",
   "execution_count": 6,
   "id": "bc664949-140c-4235-8b04-4c5465cdb62e",
   "metadata": {},
   "outputs": [],
   "source": [
    "import numpy as np\n",
    "import matplotlib.pyplot as plt\n",
    "%matplotlib inline\n",
    "import random"
   ]
  },
  {
   "cell_type": "code",
   "execution_count": 39,
   "id": "27a235be-a76a-412c-99e7-85929dd992a0",
   "metadata": {},
   "outputs": [
    {
     "ename": "SyntaxError",
     "evalue": "invalid imaginary literal (127888889.py, line 20)",
     "output_type": "error",
     "traceback": [
      "\u001b[1;36m  Cell \u001b[1;32mIn[39], line 20\u001b[1;36m\u001b[0m\n\u001b[1;33m    return 7juegos/ n\u001b[0m\n\u001b[1;37m            ^\u001b[0m\n\u001b[1;31mSyntaxError\u001b[0m\u001b[1;31m:\u001b[0m invalid imaginary literal\n"
     ]
    }
   ],
   "source": [
    "def ganador():\n",
    "    e1 = 0\n",
    "    e2 = 0\n",
    "    juegos = 0\n",
    "    while e1 < 4 and e2 < 4 :\n",
    "        resultado = np.random.choice([0, 1]) #0 es que perdió el 1\n",
    "        if resultado == 0 :\n",
    "            e1 += 0\n",
    "        if resultado == 1:\n",
    "            e2 += 1\n",
    "        juegos += 1\n",
    "    return juegos == 7\n",
    "\n",
    "def probabilidad7juegos(n):\n",
    "    juegos_7 = 0\n",
    "    for i in range(n):\n",
    "        if ganador():\n",
    "            juegos_7 += 1\n",
    "\n",
    "    return 7juegos/ n\n",
    "\n",
    "\n",
    "n = 1000\n"
   ]
  },
  {
   "cell_type": "markdown",
   "id": "41c5832d-25e3-48ac-929b-22b2f5b810ca",
   "metadata": {},
   "source": [
    "4.- Una en mil personas tienen una enfermedad H, y la prueba de la enfermedad sale correcta 98% de las veces cuando la persona está enferma. Por otro lado, si la persona está enferma la prueba tiene un error del 1%. Si alguien se hace una prueba y sale positiva, ¿cuál es la probabilidad de que tengan la enfermedad? (98/1097)\n"
   ]
  },
  {
   "cell_type": "markdown",
   "id": "b942fe95-1481-4c99-b158-372e3c6a3e53",
   "metadata": {},
   "source": [
    "$$ P(D = 1)=0.1\\% $$\n",
    "\n",
    "$$ P(T=1 D=1)=98\\% $$\n",
    "\n",
    "$$ P(T=1 D=0)=1\\% $$"
   ]
  },
  {
   "cell_type": "code",
   "execution_count": 33,
   "id": "ac8376ab-4407-4a3d-8544-c18eb0b5ac5e",
   "metadata": {},
   "outputs": [
    {
     "data": {
      "text/plain": [
       "0.08442776735459662"
      ]
     },
     "execution_count": 33,
     "metadata": {},
     "output_type": "execute_result"
    }
   ],
   "source": [
    "n = 100000\n",
    "personas = np.random.choice([0, 1], n, p=[0.999, 0.001])\n",
    "t1_d1 = np.random.choice([0, 1], personas.sum(), p=[0.02, 0.98])\n",
    "t1_d0 = np.random.choice([0, 1], n - personas.sum(), p=[0.99, 0.01])\n",
    "t1_d1.sum()/(t1_d1.sum() + t1_d0.sum())"
   ]
  },
  {
   "cell_type": "code",
   "execution_count": null,
   "id": "b73b5dd0-45d8-498d-86d5-2159d21faf8e",
   "metadata": {},
   "outputs": [],
   "source": []
  }
 ],
 "metadata": {
  "kernelspec": {
   "display_name": "Python 3 (ipykernel)",
   "language": "python",
   "name": "python3"
  },
  "language_info": {
   "codemirror_mode": {
    "name": "ipython",
    "version": 3
   },
   "file_extension": ".py",
   "mimetype": "text/x-python",
   "name": "python",
   "nbconvert_exporter": "python",
   "pygments_lexer": "ipython3",
   "version": "3.12.4"
  }
 },
 "nbformat": 4,
 "nbformat_minor": 5
}

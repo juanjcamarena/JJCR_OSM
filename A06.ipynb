{
 "cells": [
  {
   "cell_type": "markdown",
   "id": "67979d6e-b066-49d7-a1f7-39682ddb316b",
   "metadata": {},
   "source": [
    "Una carpintería local fabrica sillas, mesas, libreros y bases de cama. Hay dos empleados en esta carpintería: un empleado experimentado y un aprendiz. El aprendiz tarda aproximadamente 50% más tiempo que el carpintero experimentado en construir cualquier cosa, además de que tiene un desperdicio de alrededor de 20% de material. Los materiales y tiempos necesarios para construir algo se desglozan en la siguiente tabla:"
   ]
  },
  {
   "cell_type": "markdown",
   "id": "0b1e5a97-18dd-4297-8b5f-49ded96948fc",
   "metadata": {},
   "source": [
    "Las mesas se venden en $9000, las sillas en $3000, los libreros en $10000, y las bases de cama en $9000. Suponiendo una jornada de 40 horas a la semana y que tienen 100 unidades de madera, ¿qué les conviene construir durante una semana para maximizar su ganancia?\n",
    "\n",
    "¿Cuántas horas trabaja cada quién?\n",
    "¿Cuánto material se usa?\n",
    "¿Cuál se el ingreso total si se vende todo lo fabricado?"
   ]
  },
  {
   "cell_type": "markdown",
   "id": "e86ae5a3-b7a7-41e6-8aec-d61c7ed88a73",
   "metadata": {},
   "source": [
    "Paso 1: Maximizar ganancias\n",
    "Paso 2: \n",
    "Experimentado\n",
    "x1_m: mesas\n",
    "x1_s: sillas\n",
    "x1_l: libreros\n",
    "x1_b: bases de cama\n",
    "\n",
    "Aprendiz\n",
    "x2_m: mesas\n",
    "x2_s: sillas\n",
    "x2_l: libreros\n",
    "x2_b: bases de cama\n",
    "\n",
    "Paso 3:\n",
    "Función de costo\n",
    "9000(3x1_m + 4.5x2_m) + 3000(1x1_s + 1.5x2_s) + 10000(4x1_l + 6x2_l) + 9000(3x1_b + 4.5x2_b)\n",
    "\n",
    "Paso 4:\n",
    "t1 \\leq 40\n",
    "t2 \\leq 40\n",
    "material \\leq 100\n"
   ]
  }
 ],
 "metadata": {
  "kernelspec": {
   "display_name": "Python 3 (ipykernel)",
   "language": "python",
   "name": "python3"
  },
  "language_info": {
   "codemirror_mode": {
    "name": "ipython",
    "version": 3
   },
   "file_extension": ".py",
   "mimetype": "text/x-python",
   "name": "python",
   "nbconvert_exporter": "python",
   "pygments_lexer": "ipython3",
   "version": "3.12.4"
  }
 },
 "nbformat": 4,
 "nbformat_minor": 5
}

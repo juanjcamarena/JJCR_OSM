{
 "cells": [
  {
   "cell_type": "markdown",
   "id": "d4a8d7a8-3721-4a60-bb1d-07e09ed108d3",
   "metadata": {},
   "source": [
    "## 5/9/24"
   ]
  },
  {
   "cell_type": "markdown",
   "id": "7cba91d0-c852-46e2-bd2f-ded9279aa418",
   "metadata": {},
   "source": [
    "# 1. minimizar costo de producción de comida\n"
   ]
  },
  {
   "cell_type": "markdown",
   "id": "1f67f72f-7787-40c7-934d-5d34fb961c9a",
   "metadata": {},
   "source": [
    "# 2. \n",
    "Gramos de:\n",
    "- \n",
    "\n"
   ]
  },
  {
   "cell_type": "markdown",
   "id": "f30aaee5-c1a1-4416-9139-0929a1354277",
   "metadata": {},
   "source": [
    "3. $$ min_{x1, x2, x3, x4, x5, x6} $$0.012x1 + 0.09x2, 0.01x3, 0.03x4, 0.005x5, 0.002x6 $$\n",
    "$$ pollo = x1 $$\n",
    "$$ carne = x2 $$\n",
    "$$cordero = x3$$\n",
    "$$arroz = x4$$\n",
    "$$trigo = x5$$\n",
    "$$gel = x6\n"
   ]
  },
  {
   "cell_type": "markdown",
   "id": "d41d5f3b-ef27-445d-a078-039b30cfc623",
   "metadata": {},
   "source": [
    "$$ 0.10x1 + 0.2x2 + 0.15x3 + 0.04x5 \\geq 9 $$"
   ]
  },
  {
   "cell_type": "markdown",
   "id": "070458a7-6f09-4f84-87ec-3b25f7aeff12",
   "metadata": {},
   "source": [
    "$$ 0.08x1 +  0.1x2 + 0.11x3 + 0.01x4 + 0.01x5 \\geq 7  $$"
   ]
  },
  {
   "cell_type": "markdown",
   "id": "f5957af0-07ad-4ef7-a6d1-897d83b6b45a",
   "metadata": {},
   "source": [
    "$$ 0.01x1 + 0.05x2 + 0.05x3 + 0.1x4 + 0.15x5 \\leq 2.5 $$"
   ]
  },
  {
   "cell_type": "markdown",
   "id": "d7be214b-9c1e-41c1-af26-2a757fbd09cb",
   "metadata": {},
   "source": [
    "$$ 0.02x1 + 0.05x2 + 0.07x3 + 0.02x4 + 0.08x5 \\leq 0.5 $$"
   ]
  },
  {
   "cell_type": "code",
   "execution_count": null,
   "id": "df231b5e-5ac9-4071-b89f-b5e98e25cdc9",
   "metadata": {},
   "outputs": [],
   "source": []
  },
  {
   "cell_type": "markdown",
   "id": "78636405-d754-4662-a3ee-78e8e0c4bcf1",
   "metadata": {},
   "source": [
    " ## 2. CFE minimizar costo de distribución"
   ]
  },
  {
   "cell_type": "code",
   "execution_count": null,
   "id": "3b391ca8-8386-4b77-8b01-f91269202eaa",
   "metadata": {},
   "outputs": [],
   "source": []
  }
 ],
 "metadata": {
  "kernelspec": {
   "display_name": "Python 3 (ipykernel)",
   "language": "python",
   "name": "python3"
  },
  "language_info": {
   "codemirror_mode": {
    "name": "ipython",
    "version": 3
   },
   "file_extension": ".py",
   "mimetype": "text/x-python",
   "name": "python",
   "nbconvert_exporter": "python",
   "pygments_lexer": "ipython3",
   "version": "3.12.4"
  }
 },
 "nbformat": 4,
 "nbformat_minor": 5
}

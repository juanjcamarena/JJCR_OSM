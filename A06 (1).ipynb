{
 "cells": [
  {
   "cell_type": "markdown",
   "id": "67979d6e-b066-49d7-a1f7-39682ddb316b",
   "metadata": {},
   "source": [
    "Una carpintería local fabrica sillas, mesas, libreros y bases de cama. Hay dos empleados en esta carpintería: un empleado experimentado y un aprendiz. El aprendiz tarda aproximadamente 50% más tiempo que el carpintero experimentado en construir cualquier cosa, además de que tiene un desperdicio de alrededor de 20% de material. Los materiales y tiempos necesarios para construir algo se desglozan en la siguiente tabla:"
   ]
  },
  {
   "cell_type": "markdown",
   "id": "0b1e5a97-18dd-4297-8b5f-49ded96948fc",
   "metadata": {},
   "source": [
    "Las mesas se venden en $9000, las sillas en $3000, los libreros en $10000, y las bases de cama en $9000. Suponiendo una jornada de 40 horas a la semana y que tienen 100 unidades de madera, ¿qué les conviene construir durante una semana para maximizar su ganancia?\n",
    "\n",
    "¿Cuántas horas trabaja cada quién? El experimentado 40 y el aprendiz 39\n",
    "¿Cuánto material se usa? 100 unidades\n",
    "¿Cuál se el ingreso total si se vende todo lo fabricado? 176000"
   ]
  },
  {
   "cell_type": "markdown",
   "id": "e86ae5a3-b7a7-41e6-8aec-d61c7ed88a73",
   "metadata": {},
   "source": [
    "Paso 1: Maximizar ganancias\n",
    "\n",
    "Paso 2: \n",
    "\n",
    "Experimentado\n",
    "x1_m: mesas\n",
    "x1_s: sillas\n",
    "x1_l: libreros\n",
    "x1_b: bases de cama\n",
    "\n",
    "Aprendiz\n",
    "x2_m: mesas\n",
    "x2_s: sillas\n",
    "x2_l: libreros\n",
    "x2_b: bases de cama\n",
    "\n",
    "\n",
    "Paso 3:\n",
    "Función de costo\n",
    "9000x1_m +9000x2_m + 30001x1_s + 3000x2_s + 10000x1_l + 10000x2_l + 9000x1_b + 9000x2_b\n",
    "\n",
    "Paso 4:\n",
    "\n",
    "3x1_m + 1x1_s + 4x1_l + 3x1_b  $\\leq$ 40\n",
    "\n",
    "4.5x2_m + 1.5x2_s + 6x2_l + 4.5x2_b $\\leq$ 40\n",
    "\n",
    "6x1_m + 7.2x2_m + 2x1_s + 2.2x2_s + 5x1_l + 6x2_l + 5x1_b + 6x2_b $\\leq$ 100\n"
   ]
  },
  {
   "cell_type": "code",
   "execution_count": 3,
   "id": "58a3cf8f-42cb-45d3-8662-fad615969714",
   "metadata": {},
   "outputs": [
    {
     "data": {
      "text/plain": [
       "array([ 40.,  39., 100.])"
      ]
     },
     "execution_count": 3,
     "metadata": {},
     "output_type": "execute_result"
    }
   ],
   "source": [
    "import scipy.optimize as opt\n",
    "import numpy as np\n",
    "\n",
    "c = np.array([\n",
    "    -9000,\n",
    "    -9000,\n",
    "    -3000,\n",
    "    -3000,\n",
    "    -10000,\n",
    "    -10000,\n",
    "    -9000,\n",
    "    -9000\n",
    "])\n",
    "\n",
    "Aub = np.array([\n",
    "    [3, 0, 1, 0, 4, 0, 3, 0],\n",
    "    [0, 4.5, 0, 1.5, 0, 6, 0, 4.5],\n",
    "    [6, 7.2, 2, 2.4, 5, 6, 5, 6]\n",
    "])\n",
    "\n",
    "bub = ([\n",
    "    40,\n",
    "    40,\n",
    "    100\n",
    "])\n",
    "\n",
    "sol = opt.linprog(c, Aub, bub, integrality = 1)\n",
    "Aub @ sol.x"
   ]
  },
  {
   "cell_type": "markdown",
   "id": "8cd7cbcd-2533-4f60-85fe-abf9bc9f701c",
   "metadata": {},
   "source": [
    "2. La carpintería recibió una orden por 3 combos de mesa + 6 sillas.\n",
    "\n",
    "¿Se puede cumplir la orden? Solo se pueden hacer las sillas\n",
    "Si sí, ¿qué es lo que tienen que fabricar en el resto del tiempo y con el resto del material para maximizar su ganancia?\n",
    "¿Cuántas horas trabaja cada quién? 40 el experimentado y 39 el aprendiz\n",
    "¿Cuánto material se usa? 100\n",
    "¿Cuál es el nuevo ingreso total? 176000"
   ]
  },
  {
   "cell_type": "code",
   "execution_count": 7,
   "id": "3f126189-3295-4e8a-9954-ba04eb5d248c",
   "metadata": {},
   "outputs": [
    {
     "data": {
      "text/plain": [
       "array([ 40.,  39., 100.,   0.,  18.])"
      ]
     },
     "execution_count": 7,
     "metadata": {},
     "output_type": "execute_result"
    }
   ],
   "source": [
    "c = np.array([\n",
    "    -9000,\n",
    "    -9000,\n",
    "    -3000,\n",
    "    -3000,\n",
    "    -10000,\n",
    "    -10000,\n",
    "    -9000,\n",
    "    -9000\n",
    "])\n",
    "\n",
    "Aub = np.array([\n",
    "    [3, 0, 1, 0, 4, 0, 3, 0],\n",
    "    [0, 4.5, 0, 1.5, 0, 6, 0, 4.5],\n",
    "    [6, 7.2, 2, 2.4, 5, 6, 5, 6],\n",
    "    [3, 3, 0, 0, 0, 0, 0, 0],\n",
    "    [0, 0, 18, 18, 0, 0, 0, 0]\n",
    "])\n",
    "\n",
    "bub = ([\n",
    "    40,\n",
    "    40,\n",
    "    100,\n",
    "    3,\n",
    "    18\n",
    "])\n",
    "\n",
    "sol = opt.linprog(c, Aub, bub, integrality = 1)\n",
    "Aub @sol.x"
   ]
  },
  {
   "cell_type": "code",
   "execution_count": null,
   "id": "f1c8d2e6-b50f-4a69-bc7b-0cdb0f218996",
   "metadata": {},
   "outputs": [],
   "source": []
  }
 ],
 "metadata": {
  "kernelspec": {
   "display_name": "Python 3 (ipykernel)",
   "language": "python",
   "name": "python3"
  },
  "language_info": {
   "codemirror_mode": {
    "name": "ipython",
    "version": 3
   },
   "file_extension": ".py",
   "mimetype": "text/x-python",
   "name": "python",
   "nbconvert_exporter": "python",
   "pygments_lexer": "ipython3",
   "version": "3.12.4"
  }
 },
 "nbformat": 4,
 "nbformat_minor": 5
}

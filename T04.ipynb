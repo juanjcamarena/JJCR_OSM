{
 "cells": [
  {
   "cell_type": "code",
   "execution_count": 4,
   "id": "aa6f8a59-941e-4e44-ad21-de65a1fda098",
   "metadata": {},
   "outputs": [],
   "source": [
    "import numpy as np\n",
    "import scipy.optimize as opt"
   ]
  },
  {
   "cell_type": "markdown",
   "id": "2411a6ed-186d-4b1c-add5-e41c0a438312",
   "metadata": {},
   "source": [
    "Ejercicio 1\r\n",
    "\r\n",
    "Se quiere producir comida para gatos de la manera más barata, no obstante se debe también asegurar que se cumplan los datos requeridos de análisis nutricional. Por lo que se quiere variar la cantidad de cada ingrediente para cumplir con los estándares nutricionales. Los requisitos que se tienen es que en 100 gramos, se deben tener por lo menos 9 gramos de proteína y  7 gramos de grasa. Así mismo, no se debe tener más de 2.5 gramos de fibra y 0.5 gramos de sal.\r\n",
    "\r\n",
    "Ingrediente\tProteína\tGrasa\tFibra\tSal\r\n",
    "Pollo\t10.0%\t08.0%\t00.1%\t00.2%\r\n",
    "Carne\t20.0%\t10.0%\t00.5%\t00.5%\r\n",
    "Cordero\t15.0%\t11.0%\t00.5%\t00.7%\r\n",
    "Arroz\t00.0%\t01.0%\t10.0%\t00.2%\r\n",
    "Trigo\t04.0%\t01.0%\t15.0%\t00.8%\r\n",
    "Gel\t00.0%\t00.0%\t00.0%\t00.0%\r\n",
    "Los costos de cada producto son:\r\n",
    "\r\n",
    "Ingrediente\tCosto por gramo\r\n",
    "Pollo\t$0.012\r\n",
    "Carne\t$0.009\r\n",
    "Cordero\t$0.010\r\n",
    "Arroz\t$0.003\r\n",
    "Trigo\t$0.005\r\n",
    "Gel\t$0.002\r\n",
    "Lo que se busca optimizar en este caso es la cantidad de productos que se debe utilizar en la comida de gato, minimizando el costo total."
   ]
  },
  {
   "cell_type": "markdown",
   "id": "3858cc21-fefe-49a4-bc24-fa4383922b19",
   "metadata": {},
   "source": [
    "Paso 1: Minimizar costo\n",
    "\n",
    "Paso 2: Gramos de producto\n",
    "\n",
    "Paso 3: \n",
    "\n",
    "0.012x1 + 0.09x2, 0.01x3, 0.03x4, 0.005x5, 0.002x6\n",
    "x1= Pollo, x2= Carne, x3=Cordero, x4=Arroz, x5=Trigo, x6=Gel\n",
    "\n",
    "Paso 4:\n",
    "\n",
    "0.10x1 + 0.2x2 + 0.15x3 + 0.04x5 $\\geq$ 9\n",
    "\n",
    "0.08x1 +  0.1x2 + 0.11x3 + 0.01x4 + 0.01x5 $\\geq$ 7\n",
    "\n",
    "0.01x1 + 0.05x2 + 0.05x3 + 0.1x4 + 0.15x5 $\\leq$ 2.5 \n",
    "\n",
    "0.02x1 + 0.05x2 + 0.07x3 + 0.02x4 + 0.08x5 $\\leq$ 0.5\n"
   ]
  },
  {
   "cell_type": "code",
   "execution_count": 12,
   "id": "fabd6033-0344-4415-bd36-499edf26588b",
   "metadata": {},
   "outputs": [
    {
     "data": {
      "text/plain": [
       "        message: Optimization terminated successfully. (HiGHS Status 7: Optimal)\n",
       "        success: True\n",
       "         status: 0\n",
       "            fun: 76.0\n",
       "              x: [ 4.000e+01  2.600e+02]\n",
       "            nit: 2\n",
       "          lower:  residual: [ 4.000e+01  2.600e+02]\n",
       "                 marginals: [ 0.000e+00  0.000e+00]\n",
       "          upper:  residual: [       inf        inf]\n",
       "                 marginals: [ 0.000e+00  0.000e+00]\n",
       "          eqlin:  residual: []\n",
       "                 marginals: []\n",
       "        ineqlin:  residual: [ 0.000e+00  1.260e+01  0.000e+00]\n",
       "                 marginals: [-1.600e+00 -0.000e+00 -1.200e+00]\n",
       " mip_node_count: 0\n",
       " mip_dual_bound: 0.0\n",
       "        mip_gap: 0.0"
      ]
     },
     "execution_count": 12,
     "metadata": {},
     "output_type": "execute_result"
    }
   ],
   "source": [
    "c = np.array([0.6, 0.2])\n",
    "\n",
    "Aub = np.array([\n",
    "    [-0.30, -0.05],\n",
    "    [-0.01, -0.07],\n",
    "    [-0.10, -0.10]\n",
    "])\n",
    "\n",
    "bub = np.array([-25, -6, -30])\n",
    "\n",
    "import scipy.optimize as opt\n",
    "\n",
    "opt.linprog(c, Aub, bub)"
   ]
  },
  {
   "cell_type": "markdown",
   "id": "6324fdca-d182-449c-9126-23e88a40351a",
   "metadata": {},
   "source": [
    "Ejercicio 2\r\n",
    "\r\n",
    "La Comisión Federal de Electricidad (CFE) dispone de cuatro plantas de generación para satisfacer la demanda diaria eléctrica en cuatro ciudades, Guadalajara, León y Morelia. Las plantas 1, 2 y 3 pueden satisfacer 75, 50 y 60 millones de kW al día respectivamente. Las necesidades de las ciudades de Guadalajara, León y Morelia son de 60, 45 y 60 millones de Kw al día respectivamente.\r\n",
    "\r\n",
    "Los costos asociados al envío de suministro energético por cada millón de kW entre cada planta y cada ciudad son los registrados en la siguiente tabl\r\n",
    "\r\n",
    "-\tGuadalajara\tLeón\tMorelia\r\n",
    "Planta 1\t5\t2\t7\r\n",
    "Planta 2\t3\t4\t5\r\n",
    "Planta 3\t5\t2\t3"
   ]
  },
  {
   "cell_type": "markdown",
   "id": "bf0b6736-bed5-4828-a903-53a3e21e6415",
   "metadata": {},
   "source": [
    "Paso 1: Minimizar costo de logística\n",
    "\n",
    "Paso 2: ¿Que controlo? Cuánto se envía de una planta a la ciudad\n",
    "\n",
    "x1G x1L x1M\n",
    "\n",
    "x2G x2L x2M\n",
    "\n",
    "x3G x3L x3M\n",
    "\n",
    "Paso 3: 5x1G + 2x1L + 7x1M + 3x2G + 4x2L + 5x2M + 5x3G + 2x3L + 3x3M\n",
    "\n",
    "Paso 4:\n",
    "\n",
    "x1G + x1L + x1M $\\leq$ 75\n",
    "\n",
    "x2G + x2L + x2M $\\leq$ 50\n",
    "\n",
    "x3G + x3L + x3M $\\leq$ 60\n",
    "\n",
    "x1G + x2G + x3G $\\geq$ 60\n",
    "\n",
    "x1L + x2L + x3L $\\geq$ 45\n",
    "\n",
    "x1M + x2M + x3M $\\geq$ 60"
   ]
  },
  {
   "cell_type": "code",
   "execution_count": 17,
   "id": "9d7a5a99-e5b9-4d49-9dd5-796c4b489ec6",
   "metadata": {},
   "outputs": [
    {
     "data": {
      "text/plain": [
       "        message: Optimization terminated successfully. (HiGHS Status 7: Optimal)\n",
       "        success: True\n",
       "         status: 0\n",
       "            fun: 470.0\n",
       "              x: [ 1.000e+01  4.500e+01  0.000e+00  5.000e+01  0.000e+00\n",
       "                   0.000e+00  0.000e+00  0.000e+00  6.000e+01]\n",
       "            nit: 4\n",
       "          lower:  residual: [ 1.000e+01  4.500e+01  0.000e+00  5.000e+01\n",
       "                              0.000e+00  0.000e+00  0.000e+00  0.000e+00\n",
       "                              6.000e+01]\n",
       "                 marginals: [ 0.000e+00  0.000e+00  4.000e+00  0.000e+00\n",
       "                              4.000e+00  4.000e+00  0.000e+00  0.000e+00\n",
       "                              0.000e+00]\n",
       "          upper:  residual: [       inf        inf        inf        inf\n",
       "                                    inf        inf        inf        inf\n",
       "                                    inf]\n",
       "                 marginals: [ 0.000e+00  0.000e+00  0.000e+00  0.000e+00\n",
       "                              0.000e+00  0.000e+00  0.000e+00  0.000e+00\n",
       "                              0.000e+00]\n",
       "          eqlin:  residual: []\n",
       "                 marginals: []\n",
       "        ineqlin:  residual: [ 2.000e+01  0.000e+00  0.000e+00  0.000e+00\n",
       "                              0.000e+00  0.000e+00]\n",
       "                 marginals: [-0.000e+00 -2.000e+00 -0.000e+00 -5.000e+00\n",
       "                             -2.000e+00 -3.000e+00]\n",
       " mip_node_count: 0\n",
       " mip_dual_bound: 0.0\n",
       "        mip_gap: 0.0"
      ]
     },
     "execution_count": 17,
     "metadata": {},
     "output_type": "execute_result"
    }
   ],
   "source": [
    "c = np.array([\n",
    "    5,\n",
    "    2,\n",
    "    7,\n",
    "    3,\n",
    "    4,\n",
    "    5,\n",
    "    5,\n",
    "    2,\n",
    "    3\n",
    "])\n",
    "\n",
    "Aub = np.array([\n",
    "    [1, 1, 1, 0, 0, 0, 0, 0, 0],\n",
    "    [0, 0, 0, 1, 1, 1, 0, 0, 0],\n",
    "    [0, 0, 0, 0, 0, 0, 1, 1, 1],\n",
    "    [-1, 0, 0, -1, 0, 0, -1, 0, 0],\n",
    "    [0, -1, 0, 0, -1, 0, 0, -1, 0],\n",
    "    [0, 0, -1, 0, 0, -1, 0, 0, -1]\n",
    "])\n",
    "\n",
    "bub = np.array([\n",
    "    75,\n",
    "    50,\n",
    "    60,\n",
    "    -60,\n",
    "    -45,\n",
    "    -60\n",
    "])\n",
    "\n",
    "opt.linprog(c, Aub, bub)"
   ]
  },
  {
   "cell_type": "markdown",
   "id": "e281ce62-09ae-494e-8400-6885312ea21a",
   "metadata": {},
   "source": [
    "Ejercicio 3.\n",
    "\n",
    "Una carpintería local fabrica sillas, mesas, libreros y bases de cama. Hay dos empleados en esta carpintería: un empleado experimentado y un aprendiz. El aprendiz tarda aproximadamente 50% más tiempo que el carpintero experimentado en construir cualquier cosa, además de que tiene un desperdicio de alrededor de 20% de material. Los materiales y tiempos necesarios para construir algo se desglozan en la siguiente tabla:\n",
    "\n",
    "Producto\tTiempo [h]\tMaterial [unidades de madera]\n",
    "Mesas\t3\t6\n",
    "Sillas\t1\t2\n",
    "Libreros\t4\t5\n",
    "Bases de cama\t3\t5\n",
    "Las mesas se venden en $9000, las sillas en $3000, los libreros en $10000, y las bases de cama en $9000. Suponiendo una jornada de 40 horas a la semana y que tienen 100 unidades de madera, ¿qué les conviene construir durante una semana para maximizar su ganancia?\n",
    "\n",
    "¿Cuántas horas trabaja cada quién? 40 el experimentado y 39 el aprendiz\n",
    "¿Cuánto material se usa? 100 unidades\n",
    "¿Cuál se el ingreso total si se vende todo lo fabricado? 176000"
   ]
  },
  {
   "cell_type": "markdown",
   "id": "6008ddae-18b8-4040-8d2d-d433802f103b",
   "metadata": {},
   "source": [
    "Paso 1: Maximizar ganancias\n",
    "\n",
    "Paso 2: \n",
    "\n",
    "Experimentado\n",
    "x1_m: mesas\n",
    "x1_s: sillas\n",
    "x1_l: libreros\n",
    "x1_b: bases de cama\n",
    "\n",
    "Aprendiz\n",
    "x2_m: mesas\n",
    "x2_s: sillas\n",
    "x2_l: libreros\n",
    "x2_b: bases de cama\n",
    "\n",
    "\n",
    "Paso 3:\n",
    "Función de costo\n",
    "9000x1_m +9000x2_m + 30001x1_s + 3000x2_s + 10000x1_l + 10000x2_l + 9000x1_b + 9000x2_b\n",
    "\n",
    "Paso 4:\n",
    "\n",
    "3x1_m + 1x1_s + 4x1_l + 3x1_b  $\\leq$ 40\n",
    "\n",
    "4.5x2_m + 1.5x2_s + 6x2_l + 4.5x2_b $\\leq$ 40\n",
    "\n",
    "6x1_m + 7.2x2_m + 2x1_s + 2.2x2_s + 5x1_l + 6x2_l + 5x1_b + 6x2_b $\\leq$ 100"
   ]
  },
  {
   "cell_type": "code",
   "execution_count": 44,
   "id": "1c068591-bd01-4ce8-b06a-d91cf054e267",
   "metadata": {},
   "outputs": [
    {
     "data": {
      "text/plain": [
       "array([ 40.,  39., 100.])"
      ]
     },
     "execution_count": 44,
     "metadata": {},
     "output_type": "execute_result"
    }
   ],
   "source": [
    "c = np.array([\n",
    "    -9000,\n",
    "    -9000,\n",
    "    -3000,\n",
    "    -3000,\n",
    "    -10000,\n",
    "    -10000,\n",
    "    -9000,\n",
    "    -9000\n",
    "])\n",
    "\n",
    "Aub = np.array([\n",
    "    [3, 0, 1, 0, 4, 0, 3, 0],\n",
    "    [0, 4.5, 0, 1.5, 0, 6, 0, 4.5],\n",
    "    [6, 7.2, 2, 2.4, 5, 6, 5, 6]\n",
    "])\n",
    "\n",
    "bub = ([\n",
    "    40,\n",
    "    40,\n",
    "    100\n",
    "])\n",
    "\n",
    "sol = opt.linprog(c, Aub, bub, integrality = 1)\n",
    "Aub @ sol.x"
   ]
  },
  {
   "cell_type": "markdown",
   "id": "3f2fd584-93a0-4f9c-b5cb-81ffa69e2c63",
   "metadata": {},
   "source": [
    "2. La carpintería recibió una orden por 3 combos de mesa + 6 sillas.\n",
    "\n",
    "¿Se puede cumplir la orden?\n",
    "Si sí, ¿qué es lo que tienen que fabricar en el resto del tiempo y con el resto del material para maximizar su ganancia?\n",
    "¿Cuántas horas trabaja cada quién?\n",
    "¿Cuánto material se usa?\n",
    "¿Cuál es el nuevo ingreso total?"
   ]
  },
  {
   "cell_type": "code",
   "execution_count": 48,
   "id": "cd8c5229-32b7-4cfe-b78a-ce808c6b2b75",
   "metadata": {},
   "outputs": [
    {
     "data": {
      "text/plain": [
       "array([ 40.,  39., 100.,   0.,  18.])"
      ]
     },
     "execution_count": 48,
     "metadata": {},
     "output_type": "execute_result"
    }
   ],
   "source": [
    "c = np.array([\n",
    "    -9000,\n",
    "    -9000,\n",
    "    -3000,\n",
    "    -3000,\n",
    "    -10000,\n",
    "    -10000,\n",
    "    -9000,\n",
    "    -9000\n",
    "])\n",
    "\n",
    "Aub = np.array([\n",
    "    [3, 0, 1, 0, 4, 0, 3, 0],\n",
    "    [0, 4.5, 0, 1.5, 0, 6, 0, 4.5],\n",
    "    [6, 7.2, 2, 2.4, 5, 6, 5, 6],\n",
    "    [3, 3, 0, 0, 0, 0, 0, 0],\n",
    "    [0, 0, 18, 18, 0, 0, 0, 0]\n",
    "])\n",
    "\n",
    "bub = ([\n",
    "    40,\n",
    "    40,\n",
    "    100,\n",
    "    3,\n",
    "    18\n",
    "])\n",
    "\n",
    "sol = opt.linprog(c, Aub, bub, integrality = 1)\n",
    "Aub @ sol.x"
   ]
  },
  {
   "cell_type": "markdown",
   "id": "33d23673-a494-494e-810a-8daa359e1a2e",
   "metadata": {},
   "source": [
    "Mónica hace aretes y cadenitas de joyería. Es tan buena, que todo lo que hace lo vende.\n",
    "\n",
    "Le toma 30 minutos hacer un par de aretes y una hora hacer una cadenita, y como Mónica también es estudihambre, solo dispone de 10 horas a la semana para hacer las joyas. Por otra parte, el material que compra solo le alcanza para hacer 15 unidades (el par de aretes cuenta como unidad) de joyas por semana.\n",
    "\n",
    "La utilidad que le deja la venta de las joyas es $\\$15$ en cada par de aretes y $\\$20$ en cada cadenita.\n",
    "\n",
    "¿Cuántos pares de aretes y cuántas cadenitas debería hacer Mónica para maximizar su utilidad? \n",
    "\n",
    "15 aretes y 10 cadenitas"
   ]
  },
  {
   "cell_type": "markdown",
   "id": "f4e4a41b-5390-48c8-8000-31086a624dab",
   "metadata": {},
   "source": [
    "Paso 1: Maximizar ganancia\n",
    "\n",
    "Paso 2: Cantidad de joyas\n",
    "\n",
    "Paso 3: 15x (aretes) + 20y (cadenitas)\n",
    "\n",
    "Paso 4: x + y $\\leq$ 15\n",
    "\n",
    "0.5x + y $\\leq$ 10"
   ]
  },
  {
   "cell_type": "code",
   "execution_count": 53,
   "id": "0032944b-77a2-4a2c-bf3f-08807d3c45b8",
   "metadata": {},
   "outputs": [
    {
     "data": {
      "text/plain": [
       "array([15., 10.])"
      ]
     },
     "execution_count": 53,
     "metadata": {},
     "output_type": "execute_result"
    }
   ],
   "source": [
    "c = np.array([\n",
    "    -15,\n",
    "    -20\n",
    "])\n",
    "\n",
    "Aub = np.array([\n",
    "    [1, 1],\n",
    "    [0.5, 1]\n",
    "])\n",
    "\n",
    "bub = ([\n",
    "    15,\n",
    "    10\n",
    "])\n",
    "\n",
    "sol = opt.linprog(c, Aub, bub)\n",
    "Aub @ sol.x"
   ]
  },
  {
   "cell_type": "markdown",
   "id": "d2685282-99d8-4f0a-b320-caff9b5dd1d0",
   "metadata": {},
   "source": [
    "Una empresa tiene dos fábricas A y B. En ellas se fabrica un determinado producto, a razón de 500 y 400 unidades por día respectivamente. El producto ha de ser distribuido posteriormente a tres centros C, D y E, que requieren, respectivamente, 200, 300 y 400 unidades. Los costos de transportar cada unidad del producto desde cada fábrica a cada centro distribuidor son los indicados en la tabla siguiente:\r\n",
    "\r\n",
    "Factoría\tC\tD\tE\tFabricación (Unidades)\r\n",
    "A\t50 u.m\t60 u.m\t10 u.m\t500 u\r\n",
    "B\t25 u.m\t40 u.m\t20 u.m\t400 u\r\n",
    "Demanda\t200\t300\t400\t\r\n",
    "¿De qué manera deben organizar el transporte a fin de que los gastos sean mínimos?"
   ]
  },
  {
   "cell_type": "markdown",
   "id": "ccd52162-047d-4ae2-ad19-b4e8ac807a29",
   "metadata": {},
   "source": [
    "Paso 1: Minimizar gastos\n",
    "\n",
    "Paso 2: Cuántas unidades se mandan de cada planta\n",
    "\n",
    "Paso 3: 50AC + 60AD + 10AE + 25BC + 40BD + 20BE\n",
    "\n",
    "Paso 4: AC + AD + AE $\\leq$ 500\n",
    "\n",
    "BC + BD + BE $\\leq$ 400\n",
    "\n",
    "AC + BC $\\leq$ 200\n",
    "\n",
    "AD + BD $\\leq$ 300\n",
    "\n",
    "AE + BE $\\leq$ 400"
   ]
  },
  {
   "cell_type": "code",
   "execution_count": 65,
   "id": "fcf9101c-f240-45c1-bcd4-e1180ba8e46b",
   "metadata": {},
   "outputs": [
    {
     "data": {
      "text/plain": [
       "        message: Optimization terminated successfully. (HiGHS Status 7: Optimal)\n",
       "        success: True\n",
       "         status: 0\n",
       "            fun: -900.0\n",
       "              x: [ 4.000e+00  5.000e+00 -0.000e+00  0.000e+00  0.000e+00\n",
       "                   2.000e+01]\n",
       "            nit: 4\n",
       "          lower:  residual: [ 4.000e+00  5.000e+00 -0.000e+00  0.000e+00\n",
       "                              0.000e+00  2.000e+01]\n",
       "                 marginals: [ 0.000e+00  0.000e+00  0.000e+00  0.000e+00\n",
       "                              0.000e+00  0.000e+00]\n",
       "          upper:  residual: [       inf        inf        inf        inf\n",
       "                                    inf        inf]\n",
       "                 marginals: [ 0.000e+00  0.000e+00  0.000e+00  0.000e+00\n",
       "                              0.000e+00  0.000e+00]\n",
       "          eqlin:  residual: []\n",
       "                 marginals: []\n",
       "        ineqlin:  residual: [ 0.000e+00  0.000e+00  0.000e+00  0.000e+00\n",
       "                              0.000e+00]\n",
       "                 marginals: [-1.000e+00 -1.000e+00 -0.000e+00 -0.000e+00\n",
       "                             -0.000e+00]\n",
       " mip_node_count: 0\n",
       " mip_dual_bound: 0.0\n",
       "        mip_gap: 0.0"
      ]
     },
     "execution_count": 65,
     "metadata": {},
     "output_type": "execute_result"
    }
   ],
   "source": [
    "c = np.array([\n",
    "    -50,\n",
    "    -60,\n",
    "    -10,\n",
    "    -25,\n",
    "    -40,\n",
    "    -20\n",
    "])\n",
    "\n",
    "Aub = np.array([\n",
    "    [50, 60, 10, 0, 0, 0],\n",
    "    [0, 0, 0, 25, 40, 20],\n",
    "    [50, 0, 0, 25, 0, 0],\n",
    "    [0, 60, 0, 0, 40, 0],\n",
    "    [0, 0, 10, 0, 0, 20]\n",
    "])\n",
    "\n",
    "bub = np.array([\n",
    "    500,\n",
    "    400,\n",
    "    200,\n",
    "    300,\n",
    "    400\n",
    "])\n",
    "\n",
    "opt.linprog(c, Aub, bub)"
   ]
  },
  {
   "cell_type": "markdown",
   "id": "333d6712-4eec-410e-9d42-b74a1112620c",
   "metadata": {},
   "source": [
    "El objetivo de este problema es determinar la mejor estrategia de inversión, dados diferentes tipos de bono, la máxima cantidad que puede ser invertida en cada bono, el porcentaje de retorno y los años de madurez. También hay una cantidad fija de dinero disponible ($\\$750,000$). Por lo menos la mitad de este dinero debe ser invertido en bonos con 10 años o más para la madurez. Se puede invertir un máximo del $25\\%$ de esta cantidad en cada bono. Finalmente, hay otra restricción que no permite usar más de $35\\%$ en bonos de alto riesgo.\n",
    "\n",
    "Existen seis (6) opciones de inversión con las letras correspondientes $A_i$\n",
    "\n",
    "1. $A_1$:(Tasa de retorno=$8.65\\%$; Años para la madurez=11, Riesgo=Bajo)\n",
    "1. $A_2$:(Tasa de retorno=$9.50\\%$; Años para la madurez=10, Riesgo=Alto)\n",
    "1. $A_3$:(Tasa de retorno=$10.00\\%$; Años para la madurez=6, Riesgo=Alto)\n",
    "1. $A_4$:(Tasa de retorno=$8.75\\%$; Años para la madurez=10, Riesgo=Bajo)\n",
    "1. $A_5$:(Tasa de retorno=$9.25\\%$; Años para la madurez=7, Riesgo=Alto)\n",
    "1. $A_6$:(Tasa de retorno=$9.00\\%$; Años para la madurez=13, Riesgo=Bajo)\n",
    "\n",
    "Lo que se quiere entonces es maximizar el retorno que deja la inversión."
   ]
  },
  {
   "cell_type": "markdown",
   "id": "77a8d2cf-930b-411a-af48-a41849027657",
   "metadata": {},
   "source": [
    "Paso 1: Maximizar ganancia\n",
    "\n",
    "Paso 2: Dinero invertido en cada fondo\n",
    "\n",
    "Paso 3: 8.65A1 + 9.5A2 + 10A3 + 8.75A4 + 9.25A5 + 9A6\n",
    "\n",
    "Paso 4: A1 + A2 +A3 + A4 + A5 + A6 $\\leq$ 375000\n",
    "\n",
    "A1 $\\leq$ 187500\n",
    "\n",
    "A2 $\\leq$ 187500\n",
    "\n",
    "A3 $\\leq$ 187500\n",
    "\n",
    "A4 $\\leq$ 187500\n",
    "\n",
    "A5 $\\leq$ 187500\n",
    "\n",
    "A6 $\\leq$ 187500\n",
    "\n",
    "A2 + A3 + A5 $\\leq$ 262500"
   ]
  },
  {
   "cell_type": "code",
   "execution_count": 13,
   "id": "4e2c414e-8eb6-437f-a322-1b55fc0671fe",
   "metadata": {},
   "outputs": [
    {
     "ename": "ValueError",
     "evalue": "Invalid input for linprog: A_ub must have exactly two dimensions, and the number of columns in A_ub must be equal to the size of c",
     "output_type": "error",
     "traceback": [
      "\u001b[1;31m---------------------------------------------------------------------------\u001b[0m",
      "\u001b[1;31mValueError\u001b[0m                                Traceback (most recent call last)",
      "Cell \u001b[1;32mIn[13], line 32\u001b[0m\n\u001b[0;32m     10\u001b[0m Aub \u001b[38;5;241m=\u001b[39m np\u001b[38;5;241m.\u001b[39marray([\n\u001b[0;32m     11\u001b[0m     [\u001b[38;5;241m1\u001b[39m, \u001b[38;5;241m1\u001b[39m, \u001b[38;5;241m1\u001b[39m, \u001b[38;5;241m1\u001b[39m, \u001b[38;5;241m1\u001b[39m, \u001b[38;5;241m1\u001b[39m],\n\u001b[0;32m     12\u001b[0m     [\u001b[38;5;241m1\u001b[39m, \u001b[38;5;241m0\u001b[39m, \u001b[38;5;241m0\u001b[39m, \u001b[38;5;241m0\u001b[39m, \u001b[38;5;241m0\u001b[39m, \u001b[38;5;241m0\u001b[39m],\n\u001b[1;32m   (...)\u001b[0m\n\u001b[0;32m     18\u001b[0m     [\u001b[38;5;241m0\u001b[39m, \u001b[38;5;241m1\u001b[39m, \u001b[38;5;241m1\u001b[39m, \u001b[38;5;241m0\u001b[39m, \u001b[38;5;241m1\u001b[39m, \u001b[38;5;241m0\u001b[39m]\n\u001b[0;32m     19\u001b[0m ])\n\u001b[0;32m     21\u001b[0m bub \u001b[38;5;241m=\u001b[39m np\u001b[38;5;241m.\u001b[39marray([\n\u001b[0;32m     22\u001b[0m     \u001b[38;5;241m375000\u001b[39m,\n\u001b[0;32m     23\u001b[0m     \u001b[38;5;241m187500\u001b[39m,\n\u001b[1;32m   (...)\u001b[0m\n\u001b[0;32m     29\u001b[0m     \u001b[38;5;241m262500\u001b[39m\n\u001b[0;32m     30\u001b[0m ])\n\u001b[1;32m---> 32\u001b[0m opt\u001b[38;5;241m.\u001b[39mlinprog(c, Aub, bub)\n",
      "File \u001b[1;32m~\\anaconda3\\Lib\\site-packages\\scipy\\optimize\\_linprog.py:630\u001b[0m, in \u001b[0;36mlinprog\u001b[1;34m(c, A_ub, b_ub, A_eq, b_eq, bounds, method, callback, options, x0, integrality)\u001b[0m\n\u001b[0;32m    627\u001b[0m     integrality \u001b[38;5;241m=\u001b[39m np\u001b[38;5;241m.\u001b[39mbroadcast_to(integrality, np\u001b[38;5;241m.\u001b[39mshape(c))\n\u001b[0;32m    629\u001b[0m lp \u001b[38;5;241m=\u001b[39m _LPProblem(c, A_ub, b_ub, A_eq, b_eq, bounds, x0, integrality)\n\u001b[1;32m--> 630\u001b[0m lp, solver_options \u001b[38;5;241m=\u001b[39m _parse_linprog(lp, options, meth)\n\u001b[0;32m    631\u001b[0m tol \u001b[38;5;241m=\u001b[39m solver_options\u001b[38;5;241m.\u001b[39mget(\u001b[38;5;124m'\u001b[39m\u001b[38;5;124mtol\u001b[39m\u001b[38;5;124m'\u001b[39m, \u001b[38;5;241m1e-9\u001b[39m)\n\u001b[0;32m    633\u001b[0m \u001b[38;5;66;03m# Give unmodified problem to HiGHS\u001b[39;00m\n",
      "File \u001b[1;32m~\\anaconda3\\Lib\\site-packages\\scipy\\optimize\\_linprog_util.py:1026\u001b[0m, in \u001b[0;36m_parse_linprog\u001b[1;34m(lp, options, meth)\u001b[0m\n\u001b[0;32m   1023\u001b[0m solver_options, A_ub, A_eq \u001b[38;5;241m=\u001b[39m _check_sparse_inputs(solver_options, meth,\n\u001b[0;32m   1024\u001b[0m                                                   lp\u001b[38;5;241m.\u001b[39mA_ub, lp\u001b[38;5;241m.\u001b[39mA_eq)\n\u001b[0;32m   1025\u001b[0m \u001b[38;5;66;03m# Convert lists to numpy arrays, etc...\u001b[39;00m\n\u001b[1;32m-> 1026\u001b[0m lp \u001b[38;5;241m=\u001b[39m _clean_inputs(lp\u001b[38;5;241m.\u001b[39m_replace(A_ub\u001b[38;5;241m=\u001b[39mA_ub, A_eq\u001b[38;5;241m=\u001b[39mA_eq))\n\u001b[0;32m   1027\u001b[0m \u001b[38;5;28;01mreturn\u001b[39;00m lp, solver_options\n",
      "File \u001b[1;32m~\\anaconda3\\Lib\\site-packages\\scipy\\optimize\\_linprog_util.py:320\u001b[0m, in \u001b[0;36m_clean_inputs\u001b[1;34m(lp)\u001b[0m\n\u001b[0;32m    318\u001b[0m n_ub \u001b[38;5;241m=\u001b[39m A_ub\u001b[38;5;241m.\u001b[39mshape[\u001b[38;5;241m0\u001b[39m]\n\u001b[0;32m    319\u001b[0m \u001b[38;5;28;01mif\u001b[39;00m \u001b[38;5;28mlen\u001b[39m(A_ub\u001b[38;5;241m.\u001b[39mshape) \u001b[38;5;241m!=\u001b[39m \u001b[38;5;241m2\u001b[39m \u001b[38;5;129;01mor\u001b[39;00m A_ub\u001b[38;5;241m.\u001b[39mshape[\u001b[38;5;241m1\u001b[39m] \u001b[38;5;241m!=\u001b[39m n_x:\n\u001b[1;32m--> 320\u001b[0m     \u001b[38;5;28;01mraise\u001b[39;00m \u001b[38;5;167;01mValueError\u001b[39;00m(\n\u001b[0;32m    321\u001b[0m         \u001b[38;5;124m\"\u001b[39m\u001b[38;5;124mInvalid input for linprog: A_ub must have exactly two \u001b[39m\u001b[38;5;124m\"\u001b[39m\n\u001b[0;32m    322\u001b[0m         \u001b[38;5;124m\"\u001b[39m\u001b[38;5;124mdimensions, and the number of columns in A_ub must be \u001b[39m\u001b[38;5;124m\"\u001b[39m\n\u001b[0;32m    323\u001b[0m         \u001b[38;5;124m\"\u001b[39m\u001b[38;5;124mequal to the size of c\u001b[39m\u001b[38;5;124m\"\u001b[39m)\n\u001b[0;32m    324\u001b[0m \u001b[38;5;28;01mif\u001b[39;00m (sps\u001b[38;5;241m.\u001b[39missparse(A_ub) \u001b[38;5;129;01mand\u001b[39;00m \u001b[38;5;129;01mnot\u001b[39;00m np\u001b[38;5;241m.\u001b[39misfinite(A_ub\u001b[38;5;241m.\u001b[39mdata)\u001b[38;5;241m.\u001b[39mall()\n\u001b[0;32m    325\u001b[0m         \u001b[38;5;129;01mor\u001b[39;00m \u001b[38;5;129;01mnot\u001b[39;00m sps\u001b[38;5;241m.\u001b[39missparse(A_ub) \u001b[38;5;129;01mand\u001b[39;00m \u001b[38;5;129;01mnot\u001b[39;00m np\u001b[38;5;241m.\u001b[39misfinite(A_ub)\u001b[38;5;241m.\u001b[39mall()):\n\u001b[0;32m    326\u001b[0m     \u001b[38;5;28;01mraise\u001b[39;00m \u001b[38;5;167;01mValueError\u001b[39;00m(\n\u001b[0;32m    327\u001b[0m         \u001b[38;5;124m\"\u001b[39m\u001b[38;5;124mInvalid input for linprog: A_ub must not contain values \u001b[39m\u001b[38;5;124m\"\u001b[39m\n\u001b[0;32m    328\u001b[0m         \u001b[38;5;124m\"\u001b[39m\u001b[38;5;124minf, nan, or None\u001b[39m\u001b[38;5;124m\"\u001b[39m)\n",
      "\u001b[1;31mValueError\u001b[0m: Invalid input for linprog: A_ub must have exactly two dimensions, and the number of columns in A_ub must be equal to the size of c"
     ]
    }
   ],
   "source": [
    "c = np.array([\n",
    "    -8.65,\n",
    "    -9.5,\n",
    "    -10,\n",
    "    -8.75\n",
    "    -9.25,\n",
    "    -9\n",
    "])\n",
    "\n",
    "Aub = np.array([\n",
    "    [1, 1, 1, 1, 1, 1],\n",
    "    [1, 0, 0, 0, 0, 0],\n",
    "    [0, 1, 0, 0, 0, 0],\n",
    "    [0, 0, 1, 0, 0, 0],\n",
    "    [0, 0, 0, 1, 0, 0],\n",
    "    [0, 0, 0, 0, 1, 0],\n",
    "    [0, 0, 0, 0, 0, 1],\n",
    "    [0, 1, 1, 0, 1, 0]\n",
    "])\n",
    "\n",
    "bub = np.array([\n",
    "    375000,\n",
    "    187500,\n",
    "    187500,\n",
    "    187500,\n",
    "    187500,\n",
    "    187500,\n",
    "    187500,\n",
    "    262500\n",
    "])\n",
    "\n",
    "opt.linprog(c, Aub, bub)"
   ]
  },
  {
   "cell_type": "code",
   "execution_count": null,
   "id": "37dfa718-f88d-482b-9c02-d83c6141d56f",
   "metadata": {},
   "outputs": [],
   "source": []
  }
 ],
 "metadata": {
  "kernelspec": {
   "display_name": "Python 3 (ipykernel)",
   "language": "python",
   "name": "python3"
  },
  "language_info": {
   "codemirror_mode": {
    "name": "ipython",
    "version": 3
   },
   "file_extension": ".py",
   "mimetype": "text/x-python",
   "name": "python",
   "nbconvert_exporter": "python",
   "pygments_lexer": "ipython3",
   "version": "3.12.4"
  }
 },
 "nbformat": 4,
 "nbformat_minor": 5
}

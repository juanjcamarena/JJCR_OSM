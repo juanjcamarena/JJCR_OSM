{
 "cells": [
  {
   "cell_type": "markdown",
   "id": "64e17f8f-f6af-4447-b73c-db65e3b44be8",
   "metadata": {},
   "source": [
    "Juan Jorge Camarena 29/8/24"
   ]
  },
  {
   "cell_type": "markdown",
   "id": "40c86916-9367-4ca0-8e7a-02a8b3d5d33f",
   "metadata": {},
   "source": [
    "1. Utiliza sympy y encuentra los valores de las incógnitas que hagan que los siguientes sistemas de ecuaciones sean verdaderos:"
   ]
  },
  {
   "cell_type": "markdown",
   "id": "d04f55d2-36d6-451d-a46d-e670dea54e80",
   "metadata": {},
   "source": [
    "$$ x + y = 10$$\n",
    "\n",
    "$$ x - y = 2$$"
   ]
  },
  {
   "cell_type": "code",
   "execution_count": 144,
   "id": "c2e379d6-8911-410c-93c1-b65097de3454",
   "metadata": {},
   "outputs": [],
   "source": [
    "import sympy as sp\n",
    "import numpy as np\n",
    "import matplotlib.pyplot as plt"
   ]
  },
  {
   "cell_type": "code",
   "execution_count": 152,
   "id": "e7239e20-97f0-431b-97db-bf7964bbdf36",
   "metadata": {},
   "outputs": [
    {
     "data": {
      "text/plain": [
       "(6, 4)"
      ]
     },
     "execution_count": 152,
     "metadata": {},
     "output_type": "execute_result"
    }
   ],
   "source": [
    "sp.var(\"x\")\n",
    "sp.var(\"y\")\n",
    "\n",
    "eq1 = x + y -10\n",
    "eq2 = x - y -2\n",
    "\n",
    "x_eq1 = sp.solve(eq1, x)[0] # lista\n",
    "y_eq2 = eq2.subs(x, x_eq1)\n",
    "\n",
    "y_sol = sp.solve(y_eq2, y)[0]\n",
    "x_sol = x_eq1.subs(y, y_sol)\n",
    "x_sol, y_sol"
   ]
  },
  {
   "cell_type": "code",
   "execution_count": 52,
   "id": "0a373dff-03f8-4f5e-a576-fed7df574fe8",
   "metadata": {},
   "outputs": [
    {
     "data": {
      "text/plain": [
       "(1.00000000000000, 1.00000000000000)"
      ]
     },
     "execution_count": 52,
     "metadata": {},
     "output_type": "execute_result"
    }
   ],
   "source": [
    "sp.var(\"x\")\n",
    "sp.var(\"y\")\n",
    "\n",
    "eq1 = (3*x - 2*y)/3 + 4*y -13/3\n",
    "eq2 = (2*(-2*y + x))/3 - (3*x)/2 + 13/6\n",
    "\n",
    "x_eq1 = sp.solve(eq1, x)[0]\n",
    "y_eq2 = eq2.subs(x, x_eq1)\n",
    "\n",
    "y_sol = sp.solve(y_eq2, y)[0]\n",
    "x_sol = x_eq1.subs(y, y_sol)\n",
    "x_sol, y_sol"
   ]
  },
  {
   "cell_type": "code",
   "execution_count": 164,
   "id": "25b789e6-b8ad-4b1f-8be0-be012bc73749",
   "metadata": {},
   "outputs": [
    {
     "ename": "AttributeError",
     "evalue": "'tuple' object has no attribute 'subs'",
     "output_type": "error",
     "traceback": [
      "\u001b[1;31m---------------------------------------------------------------------------\u001b[0m",
      "\u001b[1;31mAttributeError\u001b[0m                            Traceback (most recent call last)",
      "Cell \u001b[1;32mIn[164], line 10\u001b[0m\n\u001b[0;32m      7\u001b[0m x_eq1 \u001b[38;5;241m=\u001b[39m sp\u001b[38;5;241m.\u001b[39msolve(eq1, x)[\u001b[38;5;241m0\u001b[39m]\n\u001b[0;32m      8\u001b[0m x_eq1\n\u001b[1;32m---> 10\u001b[0m y_eq2 \u001b[38;5;241m=\u001b[39m eq2\u001b[38;5;241m.\u001b[39msubs(x, x_eq1)\n\u001b[0;32m     11\u001b[0m sp\u001b[38;5;241m.\u001b[39msolve(y_eq2, y)\n\u001b[0;32m     13\u001b[0m y_sol \u001b[38;5;241m=\u001b[39m sp\u001b[38;5;241m.\u001b[39msolve(y_eq2, y)[\u001b[38;5;241m0\u001b[39m]\n",
      "\u001b[1;31mAttributeError\u001b[0m: 'tuple' object has no attribute 'subs'"
     ]
    }
   ],
   "source": [
    "sp.var(\"x\")\n",
    "sp.var(\"y\")\n",
    "\n",
    "eq1 = (x**2) - 2*y -16\n",
    "eq2 = x - y, 3\n",
    "\n",
    "x_eq1 = sp.solve(eq1, x)[0]\n",
    "x_eq1\n",
    "\n",
    "y_eq2 = eq2.subs(x, x_eq1)\n",
    "sp.solve(y_eq2, y)\n",
    "\n",
    "y_sol = sp.solve(y_eq2, y)[0]\n",
    "x_sol = x_eq1.subs(y, y_sol)\n",
    "\n",
    "x_sol, y_sol"
   ]
  },
  {
   "attachments": {
    "9e272dd1-9ce3-405b-9529-d034a48a531b.png": {
     "image/png": "[encoded data removed]"
    }
   },
   "cell_type": "markdown",
   "id": "f9e2c9f4-9c39-4c8d-833d-d8ef1350853b",
   "metadata": {},
   "source": [
    "![image.png](attachment:9e272dd1-9ce3-405b-9529-d034a48a531b.png) "
   ]
  },
  {
   "cell_type": "code",
   "execution_count": 166,
   "id": "7a3f8658-bea1-43e5-bd74-35cd021f8fd5",
   "metadata": {},
   "outputs": [
    {
     "data": {
      "text/latex": [
       "$\\displaystyle - y + z + 10$"
      ],
      "text/plain": [
       "-y + z + 10"
      ]
     },
     "execution_count": 166,
     "metadata": {},
     "output_type": "execute_result"
    }
   ],
   "source": [
    "sp.var(\"x\")\n",
    "sp.var(\"y\")\n",
    "sp.var(\"z\")\n",
    "\n",
    "eq1 = x+y-z-10\n",
    "eq2 = x-y-2\n",
    "eq3 = y+z+2\n",
    "\n",
    "x_eq1 = sp.solve(eq1, x)[0]\n",
    "x_eq1\n",
    "\n",
    "y_eq2 = eq2.subs(x, x_eq1)\n",
    "y_eq2_desp = sp.solve(y_eq2, y)[0]\n",
    "\n",
    "z_eq3 = eq3.subs(y, y_eq2_desp)\n",
    "z_sol = sp.solve(z_eq3, z)[0]\n",
    "\n",
    "y_sol = y_eq2_desp.subs(z, z_sol)\n",
    "\n",
    "x_sol"
   ]
  },
  {
   "cell_type": "markdown",
   "id": "f52aba98-90b0-430c-bf7a-555b025a529f",
   "metadata": {},
   "source": [
    "2. Encuentra los puntos críticos usando cálculo diferencial, decide si son máximos o mínimos usando el criterio de la segunda derivada, y grafica para decidir se son óptimos locales o globales:"
   ]
  },
  {
   "cell_type": "code",
   "execution_count": 146,
   "id": "03bd1328-59bc-4868-a898-88dbef4079e2",
   "metadata": {},
   "outputs": [
    {
     "data": {
      "text/plain": [
       "[<matplotlib.lines.Line2D at 0x185e14f9e20>]"
      ]
     },
     "execution_count": 146,
     "metadata": {},
     "output_type": "execute_result"
    },
    {
     "data": {
      "image/png": "[encoded data removed]",
      "text/plain": [
       "<Figure size 640x480 with 1 Axes>"
      ]
     },
     "metadata": {},
     "output_type": "display_data"
    }
   ],
   "source": [
    "x = np.linspace(-1000, 1500, 1000)\n",
    "y = 1235 + 113*x -6*x**2\n",
    "plt.plot(x, y)\n"
   ]
  },
  {
   "cell_type": "code",
   "execution_count": null,
   "id": "f3c35ec8-35ef-4eac-bc9e-94359aa4b926",
   "metadata": {},
   "outputs": [],
   "source": []
  }
 ],
 "metadata": {
  "kernelspec": {
   "display_name": "Python 3 (ipykernel)",
   "language": "python",
   "name": "python3"
  },
  "language_info": {
   "codemirror_mode": {
    "name": "ipython",
    "version": 3
   },
   "file_extension": ".py",
   "mimetype": "text/x-python",
   "name": "python",
   "nbconvert_exporter": "python",
   "pygments_lexer": "ipython3",
   "version": "3.12.4"
  }
 },
 "nbformat": 4,
 "nbformat_minor": 5
}
